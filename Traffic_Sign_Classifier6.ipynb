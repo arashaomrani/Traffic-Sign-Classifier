{
 "cells": [
  {
   "cell_type": "markdown",
   "metadata": {},
   "source": [
    "# Self-Driving Car Engineer Nanodegree\n",
    "\n",
    "## Deep Learning\n",
    "\n",
    "## Project: Build a Traffic Sign Recognition Classifier\n",
    "\n",
    "In this notebook, a template is provided for you to implement your functionality in stages, which is required to successfully complete this project. If additional code is required that cannot be included in the notebook, be sure that the Python code is successfully imported and included in your submission if necessary. \n",
    "\n",
    "> **Note**: Once you have completed all of the code implementations, you need to finalize your work by exporting the iPython Notebook as an HTML document. Before exporting the notebook to html, all of the code cells need to have been run so that reviewers can see the final implementation and output. You can then export the notebook by using the menu above and navigating to  \\n\",\n",
    "    \"**File -> Download as -> HTML (.html)**. Include the finished document along with this notebook as your submission. \n",
    "\n",
    "In addition to implementing code, there is a writeup to complete. The writeup should be completed in a separate file, which can be either a markdown file or a pdf document. There is a [write up template](https://github.com/udacity/CarND-Traffic-Sign-Classifier-Project/blob/master/writeup_template.md) that can be used to guide the writing process. Completing the code template and writeup template will cover all of the [rubric points](https://review.udacity.com/#!/rubrics/481/view) for this project.\n",
    "\n",
    "The [rubric](https://review.udacity.com/#!/rubrics/481/view) contains \"Stand Out Suggestions\" for enhancing the project beyond the minimum requirements. The stand out suggestions are optional. If you decide to pursue the \"stand out suggestions\", you can include the code in this Ipython notebook and also discuss the results in the writeup file.\n",
    "\n",
    "\n",
    ">**Note:** Code and Markdown cells can be executed using the **Shift + Enter** keyboard shortcut. In addition, Markdown cells can be edited by typically double-clicking the cell to enter edit mode."
   ]
  },
  {
   "cell_type": "markdown",
   "metadata": {},
   "source": [
    "---\n",
    "## Step 0: Load The Data"
   ]
  },
  {
   "cell_type": "code",
   "execution_count": 1,
   "metadata": {},
   "outputs": [
    {
     "name": "stderr",
     "output_type": "stream",
     "text": [
      "C:\\Users\\alahghol\\AppData\\Local\\Continuum\\Anaconda3\\envs\\tensorflow\\lib\\site-packages\\sklearn\\cross_validation.py:44: DeprecationWarning: This module was deprecated in version 0.18 in favor of the model_selection module into which all the refactored classes and functions are moved. Also note that the interface of the new CV iterators are different from that of this module. This module will be removed in 0.20.\n",
      "  \"This module will be removed in 0.20.\", DeprecationWarning)\n"
     ]
    }
   ],
   "source": [
    "# Load pickled data\n",
    "import pickle\n",
    "import numpy as np\n",
    "from sklearn.utils import shuffle\n",
    "from sklearn.cross_validation import train_test_split\n",
    "\n",
    "# TODO: Fill this in based on where you saved the training and testing data\n",
    "\n",
    "training_file = 'train.p'\n",
    "validation_file= 'valid.p'\n",
    "testing_file = 'test.p'\n",
    "\n",
    "with open(training_file, mode='rb') as f:\n",
    "    train = pickle.load(f)\n",
    "with open(validation_file, mode='rb') as f:\n",
    "    valid = pickle.load(f)\n",
    "with open(testing_file, mode='rb') as f:\n",
    "    test = pickle.load(f)\n",
    "    \n",
    "X_train, y_train = train['features'], train['labels']\n",
    "X_valid, y_valid = valid['features'], valid['labels']\n",
    "X = np.concatenate((X_train,X_valid), axis=0)\n",
    "y = np.concatenate((y_train,y_valid), axis=0)\n",
    "np.random.seed(7)\n",
    "X, y = shuffle(X, y)\n",
    "X_train, X_valid, y_train, y_valid = train_test_split(X,y,random_state=2, test_size=0.2)\n",
    "X_test, y_test = test['features'], test['labels']"
   ]
  },
  {
   "cell_type": "code",
   "execution_count": 3,
   "metadata": {},
   "outputs": [
    {
     "data": {
      "text/plain": [
       "((39209, 32, 32, 3), (31367, 32, 32, 3), (7842, 32, 32, 3))"
      ]
     },
     "execution_count": 3,
     "metadata": {},
     "output_type": "execute_result"
    }
   ],
   "source": [
    "X.shape, X_train.shape, X_valid.shape"
   ]
  },
  {
   "cell_type": "markdown",
   "metadata": {},
   "source": [
    "---\n",
    "\n",
    "## Step 1: Dataset Summary & Exploration\n",
    "\n",
    "The pickled data is a dictionary with 4 key/value pairs:\n",
    "\n",
    "- `'features'` is a 4D array containing raw pixel data of the traffic sign images, (num examples, width, height, channels).\n",
    "- `'labels'` is a 1D array containing the label/class id of the traffic sign. The file `signnames.csv` contains id -> name mappings for each id.\n",
    "- `'sizes'` is a list containing tuples, (width, height) representing the original width and height the image.\n",
    "- `'coords'` is a list containing tuples, (x1, y1, x2, y2) representing coordinates of a bounding box around the sign in the image. **THESE COORDINATES ASSUME THE ORIGINAL IMAGE. THE PICKLED DATA CONTAINS RESIZED VERSIONS (32 by 32) OF THESE IMAGES**\n",
    "\n",
    "Complete the basic data summary below. Use python, numpy and/or pandas methods to calculate the data summary rather than hard coding the results. For example, the [pandas shape method](http://pandas.pydata.org/pandas-docs/stable/generated/pandas.DataFrame.shape.html) might be useful for calculating some of the summary results. "
   ]
  },
  {
   "cell_type": "markdown",
   "metadata": {},
   "source": [
    "### Provide a Basic Summary of the Data Set Using Python, Numpy and/or Pandas"
   ]
  },
  {
   "cell_type": "code",
   "execution_count": 4,
   "metadata": {},
   "outputs": [
    {
     "name": "stdout",
     "output_type": "stream",
     "text": [
      "Number of training examples = 31367\n",
      "Number of testing examples = 12630\n",
      "Image data shape = (32, 32, 3)\n",
      "Number of classes = 43\n"
     ]
    }
   ],
   "source": [
    "### Replace each question mark with the appropriate value. \n",
    "### Use python, pandas or numpy methods rather than hard coding the results\n",
    "import pandas as pd\n",
    "# TODO: Number of training examples\n",
    "n_train = X_train.shape[0]\n",
    "\n",
    "# TODO: Number of validation examples\n",
    "n_validation = X_valid.shape[0]\n",
    "\n",
    "# TODO: Number of testing examples.\n",
    "n_test = X_test.shape[0]\n",
    "\n",
    "# TODO: What's the shape of an traffic sign image?\n",
    "image_shape = X_train[0].shape\n",
    "\n",
    "# TODO: How many unique classes/labels there are in the dataset.\n",
    "n_classes = pd.DataFrame(y_train).groupby(pd.DataFrame(y_train).iloc[:,0]).count().shape[0]\n",
    "\n",
    "print(\"Number of training examples =\", n_train)\n",
    "print(\"Number of testing examples =\", n_test)\n",
    "print(\"Image data shape =\", image_shape)\n",
    "print(\"Number of classes =\", n_classes)"
   ]
  },
  {
   "cell_type": "markdown",
   "metadata": {},
   "source": [
    "### Include an exploratory visualization of the dataset"
   ]
  },
  {
   "cell_type": "markdown",
   "metadata": {},
   "source": [
    "Visualize the German Traffic Signs Dataset using the pickled file(s). This is open ended, suggestions include: plotting traffic sign images, plotting the count of each sign, etc. \n",
    "\n",
    "The [Matplotlib](http://matplotlib.org/) [examples](http://matplotlib.org/examples/index.html) and [gallery](http://matplotlib.org/gallery.html) pages are a great resource for doing visualizations in Python.\n",
    "\n",
    "**NOTE:** It's recommended you start with something simple first. If you wish to do more, come back to it after you've completed the rest of the sections. It can be interesting to look at the distribution of classes in the training, validation and test set. Is the distribution the same? Are there more examples of some classes than others?"
   ]
  },
  {
   "cell_type": "code",
   "execution_count": 5,
   "metadata": {
    "collapsed": true
   },
   "outputs": [],
   "source": [
    "labels=pd.read_csv('signnames.csv')\n",
    "#labels.head()"
   ]
  },
  {
   "cell_type": "code",
   "execution_count": 6,
   "metadata": {
    "collapsed": true
   },
   "outputs": [],
   "source": [
    "### Data exploration visualization code goes here.\n",
    "### Feel free to use as many code cells as needed.\n",
    "import matplotlib.pyplot as plt\n",
    "import numpy as np\n",
    "# Visualizations will be shown in the notebook.\n",
    "%matplotlib inline\n",
    "def plotting(x,y,label):\n",
    "    f = plt.figure(1)\n",
    "    f.set_figheight(8)\n",
    "    f.set_figwidth(8)\n",
    "    for i in range(1,21):\n",
    "        plt.subplot(5,4,i)\n",
    "        Ind=int(np.random.randint(len(x)-1, size=1))\n",
    "        plt.imshow(x[Ind])\n",
    "        plt.title((label.iloc[y[Ind],1][:15]+label.iloc[y[Ind],1][15:]), fontsize= 9)\n",
    "        plt.axis('off')\n",
    "        plt.subplots_adjust(hspace=0.5,left=0.01)\n",
    "    plt.show()"
   ]
  },
  {
   "cell_type": "code",
   "execution_count": 85,
   "metadata": {},
   "outputs": [
    {
     "data": {
      "image/png": "[encoded data removed]",
      "text/plain": [
       "<matplotlib.figure.Figure at 0x169f656d8>"
      ]
     },
     "metadata": {},
     "output_type": "display_data"
    }
   ],
   "source": [
    "plotting(X_train,y_train,labels)"
   ]
  },
  {
   "cell_type": "code",
   "execution_count": 8,
   "metadata": {},
   "outputs": [
    {
     "data": {
      "image/png": "[encoded data removed]",
      "text/plain": [
       "<matplotlib.figure.Figure at 0xbf784a8>"
      ]
     },
     "metadata": {},
     "output_type": "display_data"
    }
   ],
   "source": [
    "def Hist(x,title):\n",
    "    plt.hist(x, 43, facecolor='green', alpha=0.75, stacked=True, rwidth=0.8)\n",
    "    plt.xlabel('Classes')\n",
    "    plt.ylabel('Counts')\n",
    "    plt.title(title)\n",
    "f = plt.figure(1)\n",
    "f.set_figheight(5)\n",
    "f.set_figwidth(18)\n",
    "plt.subplot(1,3,1)\n",
    "Hist(y_train, 'train_set')\n",
    "plt.subplot(1,3,2)\n",
    "Hist(y_valid, 'valid_set')\n",
    "plt.subplot(1,3,3)\n",
    "Hist(y_test,'test_set')\n",
    "\n",
    "plt.show()"
   ]
  },
  {
   "cell_type": "markdown",
   "metadata": {},
   "source": [
    "----\n",
    "\n",
    "## Step 2: Design and Test a Model Architecture\n",
    "\n",
    "Design and implement a deep learning model that learns to recognize traffic signs. Train and test your model on the [German Traffic Sign Dataset](http://benchmark.ini.rub.de/?section=gtsrb&subsection=dataset).\n",
    "\n",
    "The LeNet-5 implementation shown in the [classroom](https://classroom.udacity.com/nanodegrees/nd013/parts/fbf77062-5703-404e-b60c-95b78b2f3f9e/modules/6df7ae49-c61c-4bb2-a23e-6527e69209ec/lessons/601ae704-1035-4287-8b11-e2c2716217ad/concepts/d4aca031-508f-4e0b-b493-e7b706120f81) at the end of the CNN lesson is a solid starting point. You'll have to change the number of classes and possibly the preprocessing, but aside from that it's plug and play! \n",
    "\n",
    "With the LeNet-5 solution from the lecture, you should expect a validation set accuracy of about 0.89. To meet specifications, the validation set accuracy will need to be at least 0.93. It is possible to get an even higher accuracy, but 0.93 is the minimum for a successful project submission. \n",
    "\n",
    "There are various aspects to consider when thinking about this problem:\n",
    "\n",
    "- Neural network architecture (is the network over or underfitting?)\n",
    "- Play around preprocessing techniques (normalization, rgb to grayscale, etc)\n",
    "- Number of examples per label (some have more than others).\n",
    "- Generate fake data.\n",
    "\n",
    "Here is an example of a [published baseline model on this problem](http://yann.lecun.com/exdb/publis/pdf/sermanet-ijcnn-11.pdf). It's not required to be familiar with the approach used in the paper but, it's good practice to try to read papers like these."
   ]
  },
  {
   "cell_type": "markdown",
   "metadata": {},
   "source": [
    "### Pre-process the Data Set (normalization, grayscale, etc.)"
   ]
  },
  {
   "cell_type": "markdown",
   "metadata": {},
   "source": [
    "Minimally, the image data should be normalized so that the data has mean zero and equal variance. For image data, `(pixel - 128)/ 128` is a quick way to approximately normalize the data and can be used in this project. \n",
    "\n",
    "Other pre-processing steps are optional. You can try different techniques to see if it improves performance. \n",
    "\n",
    "Use the code cell (or multiple code cells, if necessary) to implement the first step of your project."
   ]
  },
  {
   "cell_type": "code",
   "execution_count": 9,
   "metadata": {
    "collapsed": true
   },
   "outputs": [],
   "source": [
    "### Preprocess the data here. It is required to normalize the data. Other preprocessing steps could include \n",
    "X_train_norm = (X_train-128)/128\n",
    "X_valid_norm = (X_valid-128)/128\n",
    "X_test_norm = (X_test-128)/128\n",
    "### converting to grayscale, etc.\n",
    "X_train_gray = np.dot(X_train,[0.2989, 0.587, 0.114]).reshape(len(X_train),32,32,1)\n",
    "X_valid_gray = np.dot(X_valid,[0.2989, 0.587, 0.114]).reshape(len(X_valid),32,32,1)\n",
    "X_test_gray = np.dot(X_test,[0.2989, 0.587, 0.114]).reshape(len(X_test),32,32,1)\n",
    "### Feel free to use as many code cells as needed."
   ]
  },
  {
   "cell_type": "code",
   "execution_count": 93,
   "metadata": {},
   "outputs": [
    {
     "data": {
      "image/png": "[encoded data removed]",
      "text/plain": [
       "<matplotlib.figure.Figure at 0x169ff8a20>"
      ]
     },
     "metadata": {},
     "output_type": "display_data"
    }
   ],
   "source": [
    "plt.subplot(1,2,1)\n",
    "plt.imshow(X_train[400,:,:,:])\n",
    "plt.subplot(1,2,2)\n",
    "plt.imshow(X_train_gray[400,:,:,0],cmap='gray')\n",
    "plt.show()"
   ]
  },
  {
   "cell_type": "code",
   "execution_count": 11,
   "metadata": {},
   "outputs": [
    {
     "name": "stderr",
     "output_type": "stream",
     "text": [
      "Using TensorFlow backend.\n"
     ]
    }
   ],
   "source": [
    "from keras.preprocessing.image import ImageDataGenerator\n",
    "datagen = ImageDataGenerator(rotation_range=15, height_shift_range=0.05, \n",
    "                shear_range=0.1, zoom_range=0.1, width_shift_range=0.05)\n",
    "def upsample(X,y,gen, limit, batch_size, stop_point,image_type):\n",
    "    if image_type == 'RGB':\n",
    "        X_up = X\n",
    "        y_up = y\n",
    "        for i in range(n_classes):\n",
    "            if len(X[y==i]) < limit:\n",
    "                j=0\n",
    "                for X_batch, y_batch in gen.flow(X[y==i], y[y==i], batch_size=batch_size):\n",
    "                    X_up = np.concatenate((X_up,X_batch), axis=0)\n",
    "                    y_up = np.concatenate((y_up,y_batch), axis=0)\n",
    "                    j+=1\n",
    "                    if j == stop_point:\n",
    "                        break\n",
    "    if image_type == 'gray':\n",
    "        X_up = X.reshape(len(X),32,32,1)\n",
    "        y_up = y\n",
    "        for i in range(n_classes):\n",
    "            if len(X[y==i]) < limit:\n",
    "                j=0\n",
    "                for X_batch, y_batch in gen.flow(X[y==i].reshape(len(X[y==i]),32,32,1), y[y==i],batch_size=batch_size):\n",
    "                    X_up = np.concatenate((X_up,X_batch), axis=0)\n",
    "                    y_up = np.concatenate((y_up,y_batch), axis=0)\n",
    "                    j+=1\n",
    "                    if j == stop_point:\n",
    "                        break\n",
    "    return X_up, y_up"
   ]
  },
  {
   "cell_type": "code",
   "execution_count": 23,
   "metadata": {
    "collapsed": true
   },
   "outputs": [],
   "source": [
    "#X_train_up, y_train_up = upsample(X_train, y_train, datagen, 1000, 30, 40,'RGB')\n",
    "#X_valid_up, y_valid_up = upsample(X_valid, y_valid, datagen,300, 30, 10,'RGB')\n",
    "#X_train_Nup, y_train_Nup = upsample(X_train_norm, y_train, datagen, 1000, 30, 40,'RGB')\n",
    "#X_valid_Nup, y_valid_Nup = upsample(X_valid_norm, y_valid, datagen,300, 30, 10,'RGB')\n",
    "X_train_Gup, y_train_Gup = upsample(X_train_gray, y_train, datagen, 1000, 30, 40,'gray')\n",
    "X_valid_Gup, y_valid_Gup = upsample(X_valid_gray, y_valid, datagen, 300, 30, 10,'gray')"
   ]
  },
  {
   "cell_type": "code",
   "execution_count": 24,
   "metadata": {
    "collapsed": true
   },
   "outputs": [],
   "source": [
    "#np.save('X_train_up.npy',X_train_up)\n",
    "#np.save('X_valid_up.npy',X_valid_up)\n",
    "#np.save('y_train_up.npy',y_train_up)\n",
    "#np.save('y_valid_up.npy',y_valid_up)\n",
    "#np.save('X_train_Nup.npy',X_train_Nup)\n",
    "#np.save('X_valid_Nup.npy',X_valid_Nup)\n",
    "#np.save('y_train_Nup.npy',y_train_Nup)\n",
    "#np.save('y_valid_Nup.npy',y_valid_Nup)\n",
    "np.save('X_train_Gup.npy',X_train_Gup)\n",
    "np.save('X_valid_Gup.npy',X_valid_Gup)\n",
    "np.save('y_train_Gup.npy',y_train_Gup)\n",
    "np.save('y_valid_Gup.npy',y_valid_Gup)"
   ]
  },
  {
   "cell_type": "code",
   "execution_count": 15,
   "metadata": {},
   "outputs": [
    {
     "data": {
      "text/plain": [
       "((31367, 32, 32), (31367,))"
      ]
     },
     "execution_count": 15,
     "metadata": {},
     "output_type": "execute_result"
    }
   ],
   "source": [
    "X_train_gray.shape, y_train.shape"
   ]
  },
  {
   "cell_type": "code",
   "execution_count": 16,
   "metadata": {},
   "outputs": [
    {
     "data": {
      "image/png": "[encoded data removed]",
      "text/plain": [
       "<matplotlib.figure.Figure at 0x7f6eb8384ef0>"
      ]
     },
     "metadata": {},
     "output_type": "display_data"
    }
   ],
   "source": [
    "f = plt.figure(1)\n",
    "f.set_figheight(5)\n",
    "f.set_figwidth(18)\n",
    "plt.subplot(1,2,1)\n",
    "Hist(y_train, 'train_set')\n",
    "plt.subplot(1,2,2)\n",
    "Hist(y_train_Gup, 'valid_set')"
   ]
  },
  {
   "cell_type": "code",
   "execution_count": 12,
   "metadata": {
    "collapsed": true
   },
   "outputs": [],
   "source": [
    "# X_train_up = np.load('X_train_up.npy')\n",
    "# X_valid_up = np.load('X_valid_up.npy')\n",
    "# y_train_up = np.load('y_train_up.npy')\n",
    "# y_valid_up =  np.load('y_valid_up.npy')\n",
    "# X_train_Nup = np.load('X_train_Nup.npy')\n",
    "# X_valid_Nup = np.load('X_valid_Nup.npy')\n",
    "# y_train_Nup = np.load('y_train_Nup.npy')\n",
    "# y_valid_Nup = np.load('y_valid_Nup.npy')\n",
    "X_train_Gup = np.load('X_train_Gup.npy')\n",
    "X_valid_Gup = np.load('X_valid_Gup.npy')\n",
    "y_train_Gup = np.load('y_train_Gup.npy')\n",
    "y_valid_Gup = np.load('y_valid_Gup.npy')"
   ]
  },
  {
   "cell_type": "markdown",
   "metadata": {},
   "source": [
    "### Model Architecture"
   ]
  },
  {
   "cell_type": "code",
   "execution_count": null,
   "metadata": {
    "collapsed": true
   },
   "outputs": [],
   "source": [
    "### Define your architecture here.\n",
    "### Feel free to use as many code cells as needed."
   ]
  },
  {
   "cell_type": "code",
   "execution_count": 13,
   "metadata": {
    "collapsed": true
   },
   "outputs": [],
   "source": [
    "import tensorflow as tf\n",
    "from tensorflow.contrib.layers import flatten\n",
    "\n",
    "\n",
    "def LeNet(x,keep_prob1,keep_prob2):    \n",
    "    # Arguments used for tf.truncated_normal, randomly defines variables for the weights and biases for each layer\n",
    "    mu = 0\n",
    "    sigma = 0.1\n",
    "    \n",
    "    # SOLUTION: Layer 1: Convolutional. Input = 32x32x1. Output = 28x28x6.\n",
    "    conv1_W = tf.Variable(tf.truncated_normal(shape=(5, 5, 1, 10), mean = mu, stddev = sigma))\n",
    "    conv1_b = tf.Variable(tf.zeros(10))\n",
    "    conv1   = tf.nn.conv2d(x, conv1_W, strides=[1, 1, 1, 1], padding='VALID') + conv1_b\n",
    "\n",
    "    # SOLUTION: Activation.\n",
    "    conv1 = tf.nn.relu(conv1)\n",
    "\n",
    "    # SOLUTION: Pooling. Input = 28x28x6. Output = 14x14x6.\n",
    "    pool1 = tf.nn.max_pool(conv1, ksize=[1, 2, 2, 1], strides=[1, 2, 2, 1], padding='VALID')\n",
    "\n",
    "    # SOLUTION: Layer 2: Convolutional. Output = 10x10x16.\n",
    "    conv2_W = tf.Variable(tf.truncated_normal(shape=(5, 5, 10, 20), mean = mu, stddev = sigma))\n",
    "    conv2_b = tf.Variable(tf.zeros(20))\n",
    "    conv2   = tf.nn.conv2d(pool1, conv2_W, strides=[1, 1, 1, 1], padding='VALID') + conv2_b\n",
    "    \n",
    "    # SOLUTION: Activation.\n",
    "    conv2 = tf.nn.relu(conv2)\n",
    "\n",
    "    # SOLUTION: Pooling. Input = 10x10x16. Output = 5x5x16.\n",
    "    conv2 = tf.nn.max_pool(conv2, ksize=[1, 2, 2, 1], strides=[1, 2, 2, 1], padding='VALID')\n",
    "\n",
    "    # SOLUTION: Flatten. Input = 5x5x16. Output = 400.\n",
    "    fc0   = flatten(conv2)\n",
    "    \n",
    "    # SOLUTION: Layer 3: Fully Connected. Input = 400. Output = 120.\n",
    "    fc1_W = tf.Variable(tf.truncated_normal(shape=(500, 200), mean = mu, stddev = sigma))\n",
    "    fc1_b = tf.Variable(tf.zeros(200))\n",
    "    fc1   = tf.matmul(fc0, fc1_W) + fc1_b\n",
    "    \n",
    "    # SOLUTION: Activation.\n",
    "    fc1    = tf.nn.relu(fc1)\n",
    "    fc1 = tf.nn.dropout(fc1, keep_prob1)\n",
    "\n",
    "    # SOLUTION: Layer 4: Fully Connected. Input = 120. Output = 84.\n",
    "    fc2_W  = tf.Variable(tf.truncated_normal(shape=(200, 100), mean = mu, stddev = sigma))\n",
    "    fc2_b  = tf.Variable(tf.zeros(100))\n",
    "    fc2    = tf.matmul(fc1, fc2_W) + fc2_b\n",
    "    \n",
    "    # SOLUTION: Activation.\n",
    "    fc2    = tf.nn.relu(fc2)\n",
    "    fc2 = tf.nn.dropout(fc2, keep_prob2)\n",
    "    \n",
    "    # SOLUTION: Layer 5: Fully Connected. Input = 84. Output = 10.\n",
    "    fc3_W  = tf.Variable(tf.truncated_normal(shape=(100, 43), mean = mu, stddev = sigma))\n",
    "    fc3_b  = tf.Variable(tf.zeros(43))\n",
    "    logits = tf.matmul(fc2, fc3_W) + fc3_b\n",
    "    \n",
    "    return conv1, logits"
   ]
  },
  {
   "cell_type": "markdown",
   "metadata": {},
   "source": [
    "### Train, Validate and Test the Model"
   ]
  },
  {
   "cell_type": "markdown",
   "metadata": {},
   "source": [
    "A validation set can be used to assess how well the model is performing. A low accuracy on the training and validation\n",
    "sets imply underfitting. A high accuracy on the training set but low accuracy on the validation set implies overfitting."
   ]
  },
  {
   "cell_type": "code",
   "execution_count": 1,
   "metadata": {
    "collapsed": true
   },
   "outputs": [],
   "source": [
    "### Train your model here.\n",
    "### Calculate and report the accuracy on the training and validation set.\n",
    "### Once a final model architecture is selected, \n",
    "### the accuracy on the test set should be calculated and reported as well.\n",
    "### Feel free to use as many code cells as needed."
   ]
  },
  {
   "cell_type": "code",
   "execution_count": 14,
   "metadata": {
    "collapsed": true
   },
   "outputs": [],
   "source": [
    "x = tf.placeholder(tf.float32, (None, 32, 32, 1))\n",
    "y = tf.placeholder(tf.int32, (None))\n",
    "one_hot_y = tf.one_hot(y, 43)\n",
    "keep_prob1 = tf.placeholder(tf.float32)\n",
    "keep_prob2 = tf.placeholder(tf.float32)"
   ]
  },
  {
   "cell_type": "code",
   "execution_count": 15,
   "metadata": {
    "collapsed": true
   },
   "outputs": [],
   "source": [
    "rate=0.001\n",
    "conv1, logits = LeNet(x,keep_prob1,keep_prob2)\n",
    "cross_entropy = tf.nn.softmax_cross_entropy_with_logits(labels=one_hot_y, logits=logits)\n",
    "loss_operation = tf.reduce_mean(cross_entropy)\n",
    "optimizer = tf.train.AdamOptimizer(learning_rate = rate)\n",
    "training_operation = optimizer.minimize(loss_operation)"
   ]
  },
  {
   "cell_type": "code",
   "execution_count": 16,
   "metadata": {
    "collapsed": true
   },
   "outputs": [],
   "source": [
    "correct_prediction = tf.equal(tf.argmax(logits, 1), tf.argmax(one_hot_y, 1))\n",
    "accuracy_operation = tf.reduce_mean(tf.cast(correct_prediction, tf.float32))\n",
    "saver = tf.train.Saver()\n",
    "\n",
    "def evaluate(X_data, y_data,Keep_prob1,Keep_prob2):\n",
    "    num_examples = len(X_data)\n",
    "    total_accuracy = 0\n",
    "    sess = tf.get_default_session()\n",
    "    for offset in range(0, num_examples, BATCH_SIZE):\n",
    "        batch_x, batch_y = X_data[offset:offset+BATCH_SIZE], y_data[offset:offset+BATCH_SIZE]\n",
    "        accuracy = sess.run(accuracy_operation, feed_dict={x: batch_x, y: batch_y,keep_prob1:Keep_prob1,\n",
    "                                                          keep_prob2:Keep_prob2})\n",
    "        total_accuracy += (accuracy * len(batch_x))\n",
    "    return total_accuracy / num_examples"
   ]
  },
  {
   "cell_type": "code",
   "execution_count": 17,
   "metadata": {
    "collapsed": true,
    "scrolled": true
   },
   "outputs": [],
   "source": [
    "EPOCHS = 10\n",
    "BATCH_SIZE = 128\n",
    "rate = 0.0001\n",
    "def train(XTRAIN, yTRAIN, XVALID, yVALID, Epochs, Batch_size, Rate, Weights):\n",
    "    with tf.Session() as sess:\n",
    "        if Weights == 'init':\n",
    "            sess.run(tf.global_variables_initializer())\n",
    "        else:\n",
    "            saver.restore(sess, './lenet')\n",
    "        num_examples = len(XTRAIN)\n",
    "\n",
    "        print(\"Training...\")\n",
    "        print()\n",
    "        for i in range(EPOCHS):\n",
    "            Xtrain, ytrain = shuffle(XTRAIN, yTRAIN)\n",
    "            for offset in range(0, num_examples, BATCH_SIZE):\n",
    "                end = offset + BATCH_SIZE\n",
    "                batch_x, batch_y = Xtrain[offset:end], ytrain[offset:end]\n",
    "                sess.run(training_operation, feed_dict={x: batch_x, y: batch_y,keep_prob1:0.8,\n",
    "                                                              keep_prob2:0.7})\n",
    "\n",
    "            validation_accuracy = evaluate(XVALID, yVALID,1.0,1.0)\n",
    "            #train_accuracy = evaluate(XTRAIN, yTRAIN, 1.0, 1.0)\n",
    "            print(\"EPOCH {} ...\".format(i+1))\n",
    "            #print(\"train Accuracy = {:.3f}\".format(train_accuracy))\n",
    "            print(\"Validation Accuracy = {:.3f}\".format(validation_accuracy))\n",
    "            print()\n",
    "\n",
    "        saver.save(sess, './lenet') \n",
    "        print(\"Model saved\")"
   ]
  },
  {
   "cell_type": "code",
   "execution_count": 32,
   "metadata": {
    "scrolled": true
   },
   "outputs": [
    {
     "name": "stdout",
     "output_type": "stream",
     "text": [
      "Training...\n",
      "\n",
      "EPOCH 1 ...\n",
      "Validation Accuracy = 0.475\n",
      "\n",
      "EPOCH 2 ...\n",
      "Validation Accuracy = 0.694\n",
      "\n",
      "EPOCH 3 ...\n",
      "Validation Accuracy = 0.805\n",
      "\n",
      "EPOCH 4 ...\n",
      "Validation Accuracy = 0.841\n",
      "\n",
      "EPOCH 5 ...\n",
      "Validation Accuracy = 0.889\n",
      "\n",
      "EPOCH 6 ...\n",
      "Validation Accuracy = 0.898\n",
      "\n",
      "EPOCH 7 ...\n",
      "Validation Accuracy = 0.909\n",
      "\n",
      "EPOCH 8 ...\n",
      "Validation Accuracy = 0.935\n",
      "\n",
      "EPOCH 9 ...\n",
      "Validation Accuracy = 0.938\n",
      "\n",
      "EPOCH 10 ...\n",
      "Validation Accuracy = 0.938\n",
      "\n",
      "Model saved\n"
     ]
    }
   ],
   "source": [
    "train(X_train_Gup, y_train_Gup, X_valid_Gup, y_valid_Gup, 10, 128, 0.001, 'init')"
   ]
  },
  {
   "cell_type": "code",
   "execution_count": 33,
   "metadata": {
    "scrolled": true
   },
   "outputs": [
    {
     "name": "stdout",
     "output_type": "stream",
     "text": [
      "INFO:tensorflow:Restoring parameters from ./lenet\n",
      "Training...\n",
      "\n",
      "EPOCH 1 ...\n",
      "Validation Accuracy = 0.936\n",
      "\n",
      "EPOCH 2 ...\n",
      "Validation Accuracy = 0.942\n",
      "\n",
      "EPOCH 3 ...\n",
      "Validation Accuracy = 0.950\n",
      "\n",
      "EPOCH 4 ...\n",
      "Validation Accuracy = 0.957\n",
      "\n",
      "EPOCH 5 ...\n",
      "Validation Accuracy = 0.947\n",
      "\n",
      "EPOCH 6 ...\n",
      "Validation Accuracy = 0.959\n",
      "\n",
      "EPOCH 7 ...\n",
      "Validation Accuracy = 0.958\n",
      "\n",
      "EPOCH 8 ...\n",
      "Validation Accuracy = 0.954\n",
      "\n",
      "EPOCH 9 ...\n",
      "Validation Accuracy = 0.960\n",
      "\n",
      "EPOCH 10 ...\n",
      "Validation Accuracy = 0.962\n",
      "\n",
      "Model saved\n"
     ]
    }
   ],
   "source": [
    "train(X_train_Gup, y_train_Gup, X_valid_Gup, y_valid_Gup, 10, 128, 0.001,'./lenet')"
   ]
  },
  {
   "cell_type": "code",
   "execution_count": 34,
   "metadata": {
    "scrolled": true
   },
   "outputs": [
    {
     "name": "stdout",
     "output_type": "stream",
     "text": [
      "INFO:tensorflow:Restoring parameters from ./lenet\n",
      "Training...\n",
      "\n",
      "EPOCH 1 ...\n",
      "Validation Accuracy = 0.963\n",
      "\n",
      "EPOCH 2 ...\n",
      "Validation Accuracy = 0.964\n",
      "\n",
      "EPOCH 3 ...\n",
      "Validation Accuracy = 0.959\n",
      "\n",
      "EPOCH 4 ...\n",
      "Validation Accuracy = 0.968\n",
      "\n",
      "EPOCH 5 ...\n",
      "Validation Accuracy = 0.969\n",
      "\n",
      "EPOCH 6 ...\n",
      "Validation Accuracy = 0.961\n",
      "\n",
      "EPOCH 7 ...\n",
      "Validation Accuracy = 0.965\n",
      "\n",
      "EPOCH 8 ...\n",
      "Validation Accuracy = 0.970\n",
      "\n",
      "EPOCH 9 ...\n",
      "Validation Accuracy = 0.966\n",
      "\n",
      "EPOCH 10 ...\n",
      "Validation Accuracy = 0.969\n",
      "\n",
      "Model saved\n"
     ]
    }
   ],
   "source": [
    "train(X_train_Gup, y_train_Gup, X_valid_Gup, y_valid_Gup, 10, 128, 0.0001,'./lenet')"
   ]
  },
  {
   "cell_type": "code",
   "execution_count": 35,
   "metadata": {
    "scrolled": true
   },
   "outputs": [
    {
     "name": "stdout",
     "output_type": "stream",
     "text": [
      "INFO:tensorflow:Restoring parameters from ./lenet\n",
      "Training...\n",
      "\n",
      "EPOCH 1 ...\n",
      "Validation Accuracy = 0.965\n",
      "\n",
      "EPOCH 2 ...\n",
      "Validation Accuracy = 0.968\n",
      "\n",
      "EPOCH 3 ...\n",
      "Validation Accuracy = 0.961\n",
      "\n",
      "EPOCH 4 ...\n",
      "Validation Accuracy = 0.966\n",
      "\n",
      "EPOCH 5 ...\n",
      "Validation Accuracy = 0.971\n",
      "\n",
      "EPOCH 6 ...\n",
      "Validation Accuracy = 0.969\n",
      "\n",
      "EPOCH 7 ...\n",
      "Validation Accuracy = 0.969\n",
      "\n",
      "EPOCH 8 ...\n",
      "Validation Accuracy = 0.964\n",
      "\n",
      "EPOCH 9 ...\n",
      "Validation Accuracy = 0.961\n",
      "\n",
      "EPOCH 10 ...\n",
      "Validation Accuracy = 0.968\n",
      "\n",
      "Model saved\n"
     ]
    }
   ],
   "source": [
    "train(X_train_Gup, y_train_Gup, X_valid_Gup, y_valid_Gup, 10, 128, 0.00001,'./lenet')"
   ]
  },
  {
   "cell_type": "code",
   "execution_count": 36,
   "metadata": {
    "scrolled": true
   },
   "outputs": [
    {
     "name": "stdout",
     "output_type": "stream",
     "text": [
      "INFO:tensorflow:Restoring parameters from ./lenet\n",
      "Training...\n",
      "\n",
      "EPOCH 1 ...\n",
      "Validation Accuracy = 0.973\n",
      "\n",
      "EPOCH 2 ...\n",
      "Validation Accuracy = 0.969\n",
      "\n",
      "EPOCH 3 ...\n",
      "Validation Accuracy = 0.973\n",
      "\n",
      "EPOCH 4 ...\n",
      "Validation Accuracy = 0.970\n",
      "\n",
      "EPOCH 5 ...\n",
      "Validation Accuracy = 0.970\n",
      "\n",
      "EPOCH 6 ...\n",
      "Validation Accuracy = 0.972\n",
      "\n",
      "EPOCH 7 ...\n",
      "Validation Accuracy = 0.973\n",
      "\n",
      "EPOCH 8 ...\n",
      "Validation Accuracy = 0.972\n",
      "\n",
      "EPOCH 9 ...\n",
      "Validation Accuracy = 0.971\n",
      "\n",
      "EPOCH 10 ...\n",
      "Validation Accuracy = 0.974\n",
      "\n",
      "Model saved\n"
     ]
    }
   ],
   "source": [
    "train(X_train_Gup, y_train_Gup, X_valid_Gup, y_valid_Gup, 10, 128, 0.00001,'./lenet')"
   ]
  },
  {
   "cell_type": "code",
   "execution_count": 19,
   "metadata": {},
   "outputs": [
    {
     "name": "stdout",
     "output_type": "stream",
     "text": [
      "test Accuracy = 0.938\n"
     ]
    }
   ],
   "source": [
    "with tf.Session() as sess:\n",
    "    #sess.run(tf.global_variables_initializer())\n",
    "    saver.restore(sess, './lenet')       \n",
    "    test_accuracy = evaluate(X_test_gray, y_test, 1.0, 1.0)\n",
    "    print(\"test Accuracy = {:.3f}\".format(test_accuracy))"
   ]
  },
  {
   "cell_type": "markdown",
   "metadata": {},
   "source": [
    "---\n",
    "\n",
    "## Step 3: Test a Model on New Images\n",
    "\n",
    "To give yourself more insight into how your model is working, download at least five pictures of German traffic signs from the web and use your model to predict the traffic sign type.\n",
    "\n",
    "You may find `signnames.csv` useful as it contains mappings from the class id (integer) to the actual sign name."
   ]
  },
  {
   "cell_type": "markdown",
   "metadata": {},
   "source": [
    "### Load and Output the Images"
   ]
  },
  {
   "cell_type": "code",
   "execution_count": null,
   "metadata": {
    "collapsed": true
   },
   "outputs": [],
   "source": [
    "### Load the images and plot them here.\n",
    "### Feel free to use as many code cells as needed."
   ]
  },
  {
   "cell_type": "code",
   "execution_count": 20,
   "metadata": {},
   "outputs": [
    {
     "name": "stdout",
     "output_type": "stream",
     "text": [
      "C:\\Self_driving_car\\Traffic_Sign_Clssification\\images\n"
     ]
    }
   ],
   "source": [
    "%cd C:\\Self_driving_car\\Traffic_Sign_Clssification\\images"
   ]
  },
  {
   "cell_type": "code",
   "execution_count": 21,
   "metadata": {
    "collapsed": true
   },
   "outputs": [],
   "source": [
    "import os\n",
    "import shutil\n",
    "np.random.seed(7)\n",
    "i=np.random.randint(0,42,5)\n",
    "c = []\n",
    "for j in range(5):\n",
    "    if i[j] < 10:\n",
    "        c.append('0000'+str(i[j]))\n",
    "    else:\n",
    "        c.append('000'+str(i[j]))\n",
    "    os.chdir(\".\\\\\"+c[j])\n",
    "    m = np.random.randint(0,len(os.listdir(os.getcwd())),1)\n",
    "    file = os.listdir(os.getcwd())[m[0]]\n",
    "    shutil.copy(file,'../../'+str(j+1)+'.ppm')\n",
    "    os.chdir(\".\\\\..\")  \n",
    "os.chdir(\".\\\\..\")  "
   ]
  },
  {
   "cell_type": "code",
   "execution_count": 22,
   "metadata": {},
   "outputs": [
    {
     "data": {
      "image/png": "[encoded data removed]",
      "text/plain": [
       "<matplotlib.figure.Figure at 0x5e332d30>"
      ]
     },
     "metadata": {},
     "output_type": "display_data"
    }
   ],
   "source": [
    "import glob\n",
    "from scipy.misc import imread\n",
    "from scipy.misc import imresize\n",
    "image_files = glob.glob('*.ppm')\n",
    "f = plt.figure(1)\n",
    "f.set_figheight(15)\n",
    "f.set_figwidth(15)\n",
    "for i in range(len(image_files)):\n",
    "    img =  np.dot(imresize(imread(image_files[i]),(32,32)),[0.2989, 0.587, 0.114])\n",
    "    plt.subplot(5,5,i+1)\n",
    "    plt.imshow(img,cmap='gray')"
   ]
  },
  {
   "cell_type": "markdown",
   "metadata": {},
   "source": [
    "### Predict the Sign Type for Each Image"
   ]
  },
  {
   "cell_type": "code",
   "execution_count": 3,
   "metadata": {
    "collapsed": true
   },
   "outputs": [],
   "source": [
    "### Run the predictions here and use the model to output the prediction for each image.\n",
    "### Make sure to pre-process the images with the same pre-processing pipeline used earlier.\n",
    "### Feel free to use as many code cells as needed."
   ]
  },
  {
   "cell_type": "code",
   "execution_count": 23,
   "metadata": {
    "collapsed": true
   },
   "outputs": [],
   "source": [
    "pred_list = []\n",
    "pred_name = []\n",
    "with tf.Session() as sess:\n",
    "    saver.restore(sess, './lenet')\n",
    "    for i in range(len(image_files)):\n",
    "        img =  np.dot(imresize(imread(image_files[i]),(32,32)),[0.2989, 0.587, 0.114])\n",
    "        class_pred = tf.arg_max(logits, 1)\n",
    "        pred=sess.run(class_pred, feed_dict={x:img.reshape(1,32,32,1).astype(np.float32),keep_prob1:1.0,\n",
    "                                                          keep_prob2:1.0})\n",
    "        pred_list.append(pred[0])\n",
    "        pred_name.append(labels.iloc[pred[0],1])"
   ]
  },
  {
   "cell_type": "code",
   "execution_count": 24,
   "metadata": {},
   "outputs": [
    {
     "name": "stdout",
     "output_type": "stream",
     "text": [
      "[4, 25, 3, 19, 23]\n",
      "['Speed limit (70km/h)', 'Road work', 'Speed limit (60km/h)', 'Dangerous curve to the left', 'Slippery road']\n",
      "[4, 25, 3, 19, 23]\n"
     ]
    }
   ],
   "source": [
    "print(pred_list)\n",
    "print(pred_name)\n",
    "print(list(map(int,c)))"
   ]
  },
  {
   "cell_type": "markdown",
   "metadata": {},
   "source": [
    "### Analyze Performance"
   ]
  },
  {
   "cell_type": "code",
   "execution_count": 4,
   "metadata": {
    "collapsed": true
   },
   "outputs": [],
   "source": [
    "### Calculate the accuracy for these 5 new images. \n",
    "### For example, if the model predicted 1 out of 5 signs correctly, it's 20% accurate on these new images."
   ]
  },
  {
   "cell_type": "code",
   "execution_count": 25,
   "metadata": {},
   "outputs": [
    {
     "name": "stdout",
     "output_type": "stream",
     "text": [
      "100.0\n"
     ]
    }
   ],
   "source": [
    "accuracy = sum(np.array(pred_list) == np.array(list(map(int,c))))*100/len(pred_list)\n",
    "print(accuracy)"
   ]
  },
  {
   "cell_type": "code",
   "execution_count": 50,
   "metadata": {},
   "outputs": [],
   "source": [
    "from sklearn.metrics import confusion_matrix\n",
    "from sklearn.metrics import classification_report\n",
    "#pred = []\n",
    "with tf.Session() as sess:\n",
    "    saver.restore(sess, './lenet')\n",
    "    for i in range(9718,len(X_test_gray),1):\n",
    "        im = X_test_gray[i].reshape(1,32,32,1)\n",
    "        class_pred = tf.arg_max(logits, 1)\n",
    "        pred.append(sess.run(class_pred, feed_dict={x:im.astype(np.float32),keep_prob1:1.0,\n",
    "                                                          keep_prob2:1.0})[0])"
   ]
  },
  {
   "cell_type": "code",
   "execution_count": 58,
   "metadata": {
    "collapsed": true
   },
   "outputs": [],
   "source": [
    "np.save('pred.npy',pred)"
   ]
  },
  {
   "cell_type": "code",
   "execution_count": null,
   "metadata": {
    "collapsed": true
   },
   "outputs": [],
   "source": [
    "pred = np.load('pred.npy')"
   ]
  },
  {
   "cell_type": "code",
   "execution_count": 66,
   "metadata": {},
   "outputs": [
    {
     "name": "stdout",
     "output_type": "stream",
     "text": [
      "             precision    recall  f1-score   support\n",
      "\n",
      "          3       1.00      1.00      1.00         1\n",
      "          4       1.00      1.00      1.00         1\n",
      "         19       1.00      1.00      1.00         1\n",
      "         23       1.00      1.00      1.00         1\n",
      "         25       1.00      1.00      1.00         1\n",
      "\n",
      "avg / total       1.00      1.00      1.00         5\n",
      "\n"
     ]
    }
   ],
   "source": [
    "print(classification_report(list(map(int,c)),pred_list))"
   ]
  },
  {
   "cell_type": "code",
   "execution_count": 64,
   "metadata": {
    "scrolled": true
   },
   "outputs": [
    {
     "name": "stdout",
     "output_type": "stream",
     "text": [
      "             precision    recall  f1-score   support\n",
      "\n",
      "          0       0.77      0.93      0.84        60\n",
      "          1       0.97      0.97      0.97       720\n",
      "          2       0.94      0.95      0.95       750\n",
      "          3       0.86      0.92      0.89       450\n",
      "          4       0.97      0.95      0.96       660\n",
      "          5       0.89      0.88      0.89       630\n",
      "          6       0.91      0.90      0.91       150\n",
      "          7       0.97      0.83      0.90       450\n",
      "          8       0.89      0.91      0.90       450\n",
      "          9       0.99      0.96      0.98       480\n",
      "         10       0.99      0.97      0.98       660\n",
      "         11       0.94      0.90      0.92       420\n",
      "         12       0.99      0.97      0.98       690\n",
      "         13       0.99      0.99      0.99       720\n",
      "         14       0.97      1.00      0.99       270\n",
      "         15       0.97      0.99      0.98       210\n",
      "         16       0.98      0.99      0.99       150\n",
      "         17       0.99      0.90      0.94       360\n",
      "         18       0.99      0.88      0.93       390\n",
      "         19       0.97      1.00      0.98        60\n",
      "         20       0.85      0.99      0.91        90\n",
      "         21       0.88      0.81      0.84        90\n",
      "         22       0.96      0.92      0.94       120\n",
      "         23       0.81      0.97      0.88       150\n",
      "         24       0.90      0.84      0.87        90\n",
      "         25       0.99      0.91      0.95       480\n",
      "         26       0.89      0.98      0.93       180\n",
      "         27       0.61      0.50      0.55        60\n",
      "         28       0.94      0.98      0.96       150\n",
      "         29       0.77      1.00      0.87        90\n",
      "         30       0.75      0.71      0.73       150\n",
      "         31       0.80      1.00      0.89       270\n",
      "         32       0.79      1.00      0.88        60\n",
      "         33       0.97      0.99      0.98       210\n",
      "         34       0.93      0.99      0.96       120\n",
      "         35       0.98      0.97      0.98       390\n",
      "         36       0.91      0.98      0.94       120\n",
      "         37       0.85      1.00      0.92        60\n",
      "         38       0.98      0.94      0.96       690\n",
      "         39       0.94      0.94      0.94        90\n",
      "         40       0.68      0.83      0.75        90\n",
      "         41       0.87      1.00      0.93        60\n",
      "         42       0.83      0.99      0.90        90\n",
      "\n",
      "avg / total       0.94      0.94      0.94     12630\n",
      "\n"
     ]
    }
   ],
   "source": [
    "print(classification_report(y_test, pred))"
   ]
  },
  {
   "cell_type": "markdown",
   "metadata": {},
   "source": [
    "### Output Top 5 Softmax Probabilities For Each Image Found on the Web"
   ]
  },
  {
   "cell_type": "markdown",
   "metadata": {},
   "source": [
    "For each of the new images, print out the model's softmax probabilities to show the **certainty** of the model's predictions (limit the output to the top 5 probabilities for each image). [`tf.nn.top_k`](https://www.tensorflow.org/versions/r0.12/api_docs/python/nn.html#top_k) could prove helpful here. \n",
    "\n",
    "The example below demonstrates how tf.nn.top_k can be used to find the top k predictions for each image.\n",
    "\n",
    "`tf.nn.top_k` will return the values and indices (class ids) of the top k predictions. So if k=3, for each sign, it'll return the 3 largest probabilities (out of a possible 43) and the correspoding class ids.\n",
    "\n",
    "Take this numpy array as an example. The values in the array represent predictions. The array contains softmax probabilities for five candidate images with six possible classes. `tk.nn.top_k` is used to choose the three classes with the highest probability:\n",
    "\n",
    "```\n",
    "# (5, 6) array\n",
    "a = np.array([[ 0.24879643,  0.07032244,  0.12641572,  0.34763842,  0.07893497,\n",
    "         0.12789202],\n",
    "       [ 0.28086119,  0.27569815,  0.08594638,  0.0178669 ,  0.18063401,\n",
    "         0.15899337],\n",
    "       [ 0.26076848,  0.23664738,  0.08020603,  0.07001922,  0.1134371 ,\n",
    "         0.23892179],\n",
    "       [ 0.11943333,  0.29198961,  0.02605103,  0.26234032,  0.1351348 ,\n",
    "         0.16505091],\n",
    "       [ 0.09561176,  0.34396535,  0.0643941 ,  0.16240774,  0.24206137,\n",
    "         0.09155967]])\n",
    "```\n",
    "\n",
    "Running it through `sess.run(tf.nn.top_k(tf.constant(a), k=3))` produces:\n",
    "\n",
    "```\n",
    "TopKV2(values=array([[ 0.34763842,  0.24879643,  0.12789202],\n",
    "       [ 0.28086119,  0.27569815,  0.18063401],\n",
    "       [ 0.26076848,  0.23892179,  0.23664738],\n",
    "       [ 0.29198961,  0.26234032,  0.16505091],\n",
    "       [ 0.34396535,  0.24206137,  0.16240774]]), indices=array([[3, 0, 5],\n",
    "       [0, 1, 4],\n",
    "       [0, 5, 1],\n",
    "       [1, 3, 5],\n",
    "       [1, 4, 3]], dtype=int32))\n",
    "```\n",
    "\n",
    "Looking just at the first row we get `[ 0.34763842,  0.24879643,  0.12789202]`, you can confirm these are the 3 largest probabilities in `a`. You'll also notice `[3, 0, 5]` are the corresponding indices."
   ]
  },
  {
   "cell_type": "code",
   "execution_count": 3,
   "metadata": {
    "collapsed": true
   },
   "outputs": [],
   "source": [
    "### Print out the top five softmax probabilities for the predictions on the German traffic sign images found on the web. \n",
    "### Feel free to use as many code cells as needed."
   ]
  },
  {
   "cell_type": "code",
   "execution_count": 75,
   "metadata": {},
   "outputs": [
    {
     "name": "stdout",
     "output_type": "stream",
     "text": [
      "TopKV2(values=array([[  9.99943376e-01,   3.30482981e-05,   7.97274879e-06,\n",
      "          6.93424636e-06,   2.57219767e-06]], dtype=float32), indices=array([[ 4,  1,  0, 39, 14]]))\n",
      "TopKV2(values=array([[  1.00000000e+00,   5.70685844e-30,   1.06553802e-31,\n",
      "          1.94717540e-34,   1.07561131e-34]], dtype=float32), indices=array([[25, 29, 31, 30, 21]]))\n",
      "TopKV2(values=array([[  9.99995470e-01,   4.49203571e-06,   2.73617839e-08,\n",
      "          2.87374569e-10,   1.83369084e-10]], dtype=float32), indices=array([[ 3,  5,  2, 28, 35]]))\n",
      "TopKV2(values=array([[  9.99993682e-01,   3.42935596e-06,   1.92512402e-06,\n",
      "          2.86129108e-07,   1.88645330e-07]], dtype=float32), indices=array([[19, 20, 23, 26, 24]]))\n",
      "TopKV2(values=array([[  1.00000000e+00,   4.39286000e-30,   4.91247835e-36,\n",
      "          1.54993004e-37,   0.00000000e+00]], dtype=float32), indices=array([[23, 20, 19, 28,  0]]))\n"
     ]
    }
   ],
   "source": [
    "with tf.Session() as sess:\n",
    "    saver.restore(sess, './lenet')\n",
    "    for i in range(len(image_files)):\n",
    "        img =  np.dot(imresize(imread(image_files[i]),(32,32)),[0.2989, 0.587, 0.114])\n",
    "        top = tf.nn.top_k(tf.nn.softmax(logits,dim=-1), k=5)\n",
    "        print(sess.run(top, feed_dict={x:img.reshape(1,32,32,1).astype(np.float32),keep_prob1:1.0,\n",
    "                                                          keep_prob2:1.0}))"
   ]
  },
  {
   "cell_type": "markdown",
   "metadata": {},
   "source": [
    "### Project Writeup\n",
    "\n",
    "Once you have completed the code implementation, document your results in a project writeup using this [template](https://github.com/udacity/CarND-Traffic-Sign-Classifier-Project/blob/master/writeup_template.md) as a guide. The writeup can be in a markdown or pdf file. "
   ]
  },
  {
   "cell_type": "markdown",
   "metadata": {},
   "source": [
    "> **Note**: Once you have completed all of the code implementations and successfully answered each question above, you may finalize your work by exporting the iPython Notebook as an HTML document. You can do this by using the menu above and navigating to  \\n\",\n",
    "    \"**File -> Download as -> HTML (.html)**. Include the finished document along with this notebook as your submission."
   ]
  },
  {
   "cell_type": "markdown",
   "metadata": {},
   "source": [
    "---\n",
    "\n",
    "## Step 4 (Optional): Visualize the Neural Network's State with Test Images\n",
    "\n",
    " This Section is not required to complete but acts as an additional excersise for understaning the output of a neural network's weights. While neural networks can be a great learning device they are often referred to as a black box. We can understand what the weights of a neural network look like better by plotting their feature maps. After successfully training your neural network you can see what it's feature maps look like by plotting the output of the network's weight layers in response to a test stimuli image. From these plotted feature maps, it's possible to see what characteristics of an image the network finds interesting. For a sign, maybe the inner network feature maps react with high activation to the sign's boundary outline or to the contrast in the sign's painted symbol.\n",
    "\n",
    " Provided for you below is the function code that allows you to get the visualization output of any tensorflow weight layer you want. The inputs to the function should be a stimuli image, one used during training or a new one you provided, and then the tensorflow variable name that represents the layer's state during the training process, for instance if you wanted to see what the [LeNet lab's](https://classroom.udacity.com/nanodegrees/nd013/parts/fbf77062-5703-404e-b60c-95b78b2f3f9e/modules/6df7ae49-c61c-4bb2-a23e-6527e69209ec/lessons/601ae704-1035-4287-8b11-e2c2716217ad/concepts/d4aca031-508f-4e0b-b493-e7b706120f81) feature maps looked like for it's second convolutional layer you could enter conv2 as the tf_activation variable.\n",
    "\n",
    "For an example of what feature map outputs look like, check out NVIDIA's results in their paper [End-to-End Deep Learning for Self-Driving Cars](https://devblogs.nvidia.com/parallelforall/deep-learning-self-driving-cars/) in the section Visualization of internal CNN State. NVIDIA was able to show that their network's inner weights had high activations to road boundary lines by comparing feature maps from an image with a clear path to one without. Try experimenting with a similar test to show that your trained network's weights are looking for interesting features, whether it's looking at differences in feature maps from images with or without a sign, or even what feature maps look like in a trained network vs a completely untrained one on the same sign image.\n",
    "\n",
    "<figure>\n",
    " <img src=\"visualize_cnn.png\" width=\"380\" alt=\"Combined Image\" />\n",
    " <figcaption>\n",
    " <p></p> \n",
    " <p style=\"text-align: center;\"> Your output should look something like this (above)</p> \n",
    " </figcaption>\n",
    "</figure>\n",
    " <p></p> \n"
   ]
  },
  {
   "cell_type": "code",
   "execution_count": 32,
   "metadata": {
    "collapsed": true
   },
   "outputs": [],
   "source": [
    "### Visualize your network's feature maps here.\n",
    "### Feel free to use as many code cells as needed.\n",
    "\n",
    "# image_input: the test image being fed into the network to produce the feature maps\n",
    "# tf_activation: should be a tf variable name used during your training procedure that represents the calculated state of a specific weight layer\n",
    "# activation_min/max: can be used to view the activation contrast in more detail, by default matplot sets min and max to the actual min and max values of the output\n",
    "# plt_num: used to plot out multiple different weight feature map sets on the same block, just extend the plt number for each new feature map entry\n",
    "\n",
    "def outputFeatureMap(image_input, tf_activation, activation_min=-1, activation_max=-1 ,plt_num=1):\n",
    "    # Here make sure to preprocess your image_input in a way your network expects\n",
    "    # with size, normalization, ect if needed\n",
    "    # image_input =\n",
    "    # Note: x should be the same name as your network's tensorflow data placeholder variable\n",
    "    # If you get an error tf_activation is not defined it may be having trouble accessing the variable from inside a function\n",
    "    activation = tf_activation.eval(session=sess,feed_dict={x : image_input})\n",
    "    featuremaps = activation.shape[3]\n",
    "    plt.figure(plt_num, figsize=(15,15))\n",
    "    for featuremap in range(featuremaps):\n",
    "        plt.subplot(6,8, featuremap+1) # sets the number of feature maps to show on each row and column\n",
    "        plt.title('FeatureMap ' + str(featuremap)) # displays the feature map number\n",
    "        if activation_min != -1 & activation_max != -1:\n",
    "            plt.imshow(activation[0,:,:, featuremap], interpolation=\"nearest\", vmin =activation_min, vmax=activation_max, cmap=\"gray\")\n",
    "        elif activation_max != -1:\n",
    "            plt.imshow(activation[0,:,:, featuremap], interpolation=\"nearest\", vmax=activation_max, cmap=\"gray\")\n",
    "        elif activation_min !=-1:\n",
    "            plt.imshow(activation[0,:,:, featuremap], interpolation=\"nearest\", vmin=activation_min, cmap=\"gray\")\n",
    "        else:\n",
    "            plt.imshow(activation[0,:,:, featuremap], interpolation=\"nearest\", cmap=\"gray\")"
   ]
  },
  {
   "cell_type": "code",
   "execution_count": 78,
   "metadata": {},
   "outputs": [
    {
     "data": {
      "image/png": "[encoded data removed]",
      "text/plain": [
       "<matplotlib.figure.Figure at 0x166586b70>"
      ]
     },
     "metadata": {},
     "output_type": "display_data"
    }
   ],
   "source": [
    "with tf.Session() as sess:\n",
    "    saver.restore(sess, './lenet')\n",
    "    outputFeatureMap(X_test_gray[1].reshape(1,32,32,1), conv1, activation_min=-1, activation_max=-1 ,plt_num=1)"
   ]
  },
  {
   "cell_type": "code",
   "execution_count": null,
   "metadata": {
    "collapsed": true
   },
   "outputs": [],
   "source": []
  }
 ],
 "metadata": {
  "anaconda-cloud": {},
  "kernelspec": {
   "display_name": "Python 3",
   "language": "python",
   "name": "python3"
  },
  "language_info": {
   "codemirror_mode": {
    "name": "ipython",
    "version": 3
   },
   "file_extension": ".py",
   "mimetype": "text/x-python",
   "name": "python",
   "nbconvert_exporter": "python",
   "pygments_lexer": "ipython3",
   "version": "3.5.3"
  }
 },
 "nbformat": 4,
 "nbformat_minor": 1
}
